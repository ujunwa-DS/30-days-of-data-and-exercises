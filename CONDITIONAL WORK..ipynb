{
 "cells": [
  {
   "cell_type": "markdown",
   "metadata": {},
   "source": [
    "## 1.\n",
    "\n",
    "A triangle can be classified based on the lengths of its sides as equilateral, isosceles or\n",
    "scalene. All three sides of an equilateral triangle have the same length. An isosceles\n",
    "triangle has two sides that are the same length, and a third side that is a different\n",
    "length. If all of the sides have different lengths then the triangle is scalene.\n",
    "Write a program that reads the lengths of the three sides of a triangle from the\n",
    "user. Then display a message that states the triangle’s type."
   ]
  },
  {
   "cell_type": "code",
   "execution_count": 1,
   "metadata": {},
   "outputs": [],
   "source": [
    "# BEST WORK EVER"
   ]
  },
  {
   "cell_type": "code",
   "execution_count": 2,
   "metadata": {},
   "outputs": [
    {
     "name": "stdout",
     "output_type": "stream",
     "text": [
      "check your one X: 2\n",
      "check your one Y: 3\n",
      "check your one Z: 2\n",
      "isosceles\n"
     ]
    }
   ],
   "source": [
    "\n",
    "CLIENT1= int(input(\"check your one X: \"))\n",
    "CLIENT2 = int(input(\"check your one Y: \"))\n",
    "CLIENT3= int(input(\"check your one Z: \"))\n",
    "if CLIENT1==CLIENT2==CLIENT3:\n",
    "    print(\"equilateral\")\n",
    "elif CLIENT1!=CLIENT2==CLIENT3:\n",
    "    print(\"isosceles\")\n",
    "elif CLIENT1==CLIENT3!=CLIENT2:\n",
    "    print(\"isosceles\")\n",
    "elif CLIENT1==CLIENT2!=CLIENT3:\n",
    "    print(\"isosceles\")\n",
    "elif CLIENT1!=CLIENT2!=CLIENT3:\n",
    "    print(\"scalene\")"
   ]
  },
  {
   "cell_type": "markdown",
   "metadata": {},
   "source": [
    "## 2.\n",
    "\n",
    "Create a dictionary, then write a code to check whether a given key already exists in the dictionary"
   ]
  },
  {
   "cell_type": "code",
   "execution_count": 3,
   "metadata": {},
   "outputs": [
    {
     "name": "stdout",
     "output_type": "stream",
     "text": [
      "assignment\n"
     ]
    }
   ],
   "source": [
    "dit={\"name\":\"work\",\n",
    "    \"meaning\":\"assignment\",\n",
    "    \"time\":\"wonderful\",\n",
    "    \"date\": 4}\n",
    "print(dit.get(\"meaning\"))"
   ]
  },
  {
   "cell_type": "markdown",
   "metadata": {},
   "source": [
    "## 3.\n",
    "\n",
    "Create a dictionary, then write a Python program to remove a key from the dictionary. "
   ]
  },
  {
   "cell_type": "code",
   "execution_count": 4,
   "metadata": {},
   "outputs": [
    {
     "data": {
      "text/plain": [
       "{'name': 'work', 'meaning': 'assignment', 'time': 'wonderful'}"
      ]
     },
     "execution_count": 4,
     "metadata": {},
     "output_type": "execute_result"
    }
   ],
   "source": [
    "dit={\"name\":\"work\",\n",
    "    \"meaning\":\"assignment\",\n",
    "    \"time\":\"wonderful\",\n",
    "    \"date\": 4}\n",
    "dit.pop(\"date\")\n",
    "dit"
   ]
  },
  {
   "cell_type": "markdown",
   "metadata": {},
   "source": [
    "## 4.\n",
    "\n",
    "Create a dictionary that contains Name, Location, Gender, Age as keys, then write a code that changes \"Location\" to \"City\"."
   ]
  },
  {
   "cell_type": "code",
   "execution_count": 5,
   "metadata": {},
   "outputs": [
    {
     "data": {
      "text/plain": [
       "{'Name': 'Helen', 'Location': 'Abuja', 'Gender': 'female', 'Age': 25}"
      ]
     },
     "execution_count": 5,
     "metadata": {},
     "output_type": "execute_result"
    }
   ],
   "source": [
    "real={\"Name\":\"Helen\",\n",
    "     \"Location\":\"Lagos\",\n",
    "     \"Gender\":\"female\",\n",
    "     \"Age\": 25}\n",
    "real[\"Location\"]=\"Abuja\"\n",
    "real"
   ]
  },
  {
   "cell_type": "markdown",
   "metadata": {},
   "source": [
    "## 5.\n",
    "\n",
    "details = {\n",
    "     'person1': {'name': 'Chioma', 'salary': 7500, 'age': 22},\n",
    "     'person2': {'name': 'Tosin', 'salary': 8000, 'age': 25},\n",
    "     'person3': {'name': 'Promise', 'salary': 6500, 'age': 28}\n",
    "}\n",
    "\n",
    "Write a code that changes Tosin's salary to 9000"
   ]
  },
  {
   "cell_type": "code",
   "execution_count": 6,
   "metadata": {},
   "outputs": [
    {
     "data": {
      "text/plain": [
       "{'person1': {'name': 'Chioma', 'salary': 7500, 'age': 22},\n",
       " 'person2': {'name': 'Tosin', 'salary': 9000, 'age': 25},\n",
       " 'person3': {'name': 'Promise', 'salary': 6500, 'age': 28}}"
      ]
     },
     "execution_count": 6,
     "metadata": {},
     "output_type": "execute_result"
    }
   ],
   "source": [
    "details = { 'person1': {'name': 'Chioma', 'salary': 7500, 'age': 22}, 'person2': {'name': 'Tosin', 'salary': 8000, 'age': 25}, 'person3': {'name': 'Promise', 'salary': 6500, 'age': 28} }\n",
    "details[\"person2\"][\"salary\"]=9000\n",
    "details"
   ]
  },
  {
   "cell_type": "markdown",
   "metadata": {},
   "source": [
    "## 6.\n",
    "\n",
    "A month can last between 28 to 31 days. Write a code that reads the name of a month as a string from the user. The number of days in that month should then be shown by your output. Display \"28 or 29 days\" for February to account for leap years."
   ]
  },
  {
   "cell_type": "code",
   "execution_count": 7,
   "metadata": {},
   "outputs": [
    {
     "name": "stdout",
     "output_type": "stream",
     "text": [
      "check your month: September\n",
      "30\n"
     ]
    }
   ],
   "source": [
    "MONTH=input(\"check your month: \")\n",
    "if MONTH==\"january\":\n",
    "    print(31)\n",
    "elif MONTH==\"february\":\n",
    "    print(\"28 or 29 days\")\n",
    "elif MONTH==\"march\":\n",
    "    print(31)\n",
    "elif MONTH==\"April\":\n",
    "    print(30)\n",
    "elif MONTH==\"May\":\n",
    "    print(31)\n",
    "elif MONTH==\"June\":\n",
    "    print(30)\n",
    "elif MONTH==\"July\":\n",
    "    print(31)\n",
    "elif MONTH==\"August\":\n",
    "    print(31)\n",
    "elif MONTH==\"September\":\n",
    "    print(30)\n",
    "elif MONTH==\"October\":\n",
    "    print(31)\n",
    "elif MONTH==\"November\":\n",
    "    print(30)\n",
    "elif MONTH==\"December\":\n",
    "    print(31)"
   ]
  },
  {
   "cell_type": "markdown",
   "metadata": {},
   "source": [
    "## 7.\n",
    "\n",
    "Write an if statement that asks for the user's name via input() function. If the name is \"James\" make it print \"Welcome on board, James.\" Otherwise make it print an appropriate error message of your choice. \n",
    "\n",
    "Make sure you use the string formatting method."
   ]
  },
  {
   "cell_type": "code",
   "execution_count": 8,
   "metadata": {},
   "outputs": [
    {
     "name": "stdout",
     "output_type": "stream",
     "text": [
      "Enter your name: joan\n",
      "joan not yet signed in\n"
     ]
    }
   ],
   "source": [
    "Name=\"James\"\n",
    "Username = input(\"Enter your name: \")\n",
    "if Username== \"James\":\n",
    "    print(\"Welcome on board, {}\". format(Username))\n",
    "else:\n",
    "    print(\"{} not yet signed in\". format(Username))"
   ]
  },
  {
   "cell_type": "markdown",
   "metadata": {},
   "source": [
    "## 8. \n",
    "\n",
    "Write a code that prompts the user to input a number, and then returns \"True\" if number is divisible by 3, and \"False\" if otherwise."
   ]
  },
  {
   "cell_type": "code",
   "execution_count": 9,
   "metadata": {},
   "outputs": [],
   "source": [
    "num= 10000000000\n",
    "x=0<num<10000000000"
   ]
  },
  {
   "cell_type": "code",
   "execution_count": 10,
   "metadata": {},
   "outputs": [
    {
     "name": "stdout",
     "output_type": "stream",
     "text": [
      "please type in your number: 100\n",
      "False\n"
     ]
    }
   ],
   "source": [
    "Client=int(input(\"please type in your number: \"))\n",
    "if Client % 3==0:\n",
    "    print (\"True\")\n",
    "else:\n",
    "    print(\"False\")"
   ]
  },
  {
   "cell_type": "markdown",
   "metadata": {},
   "source": [
    "## 9.\n",
    "\n",
    "A school has following rules for grading system:\n",
    "- Below 40 - F\n",
    "- 41 to 44 - E\n",
    "- 45 to 49 - D\n",
    "- 50 to 60 - C\n",
    "- 60 to 69 - B\n",
    "- 70 and above - A\n",
    "\n",
    "Write a code that asks the user to enter his mark and then prints out the corresponding grade."
   ]
  },
  {
   "cell_type": "code",
   "execution_count": 11,
   "metadata": {},
   "outputs": [
    {
     "name": "stdout",
     "output_type": "stream",
     "text": [
      "check your result: 88\n",
      "A\n"
     ]
    }
   ],
   "source": [
    "F= range(0,40)\n",
    "E =range(41,45)\n",
    "D=range(45,50)\n",
    "C=range(50,60)\n",
    "B=range(60,70)\n",
    "A=range(70,101)\n",
    "result=int(input(\"check your result: \"))\n",
    "if result<=40 and result>0:\n",
    "    print (\"F\")\n",
    "elif result<45 and result>40:\n",
    "    print(\"E\")\n",
    "elif result<=49 and result>45:\n",
    "    print(\"D\")\n",
    "elif result<=60 and result>50:\n",
    "    print(\"C\")\n",
    "elif result<=69 and result>60:\n",
    "    print(\"B\")\n",
    "elif result<=100 and result>70:\n",
    "    print(\"A\")\n"
   ]
  },
  {
   "cell_type": "markdown",
   "metadata": {},
   "source": [
    "## 10. \n",
    "\n",
    "A company decided to give bonus of 5% to employee if his/her year of service is more than 5 years.\n",
    "Write a code that asks the user to input their salary and years of service and then prints the net bonus amount.\n",
    "\n",
    "Use string format method"
   ]
  },
  {
   "cell_type": "code",
   "execution_count": 12,
   "metadata": {},
   "outputs": [],
   "source": [
    "x=5\n"
   ]
  },
  {
   "cell_type": "code",
   "execution_count": 13,
   "metadata": {},
   "outputs": [
    {
     "name": "stdout",
     "output_type": "stream",
     "text": [
      "HOW MANY YEARS HAVE YOU BEEN WITH US : 19\n",
      "CHECK IF YOU ARE QUALIFIED FOR A BONUS: 1000000\n",
      "Thank you for all your sacrifice, your Salary is now 1050000.0\n"
     ]
    }
   ],
   "source": [
    "YEARS=int(input(\"HOW MANY YEARS HAVE YOU BEEN WITH US : \"))\n",
    "salary=int(input(\"CHECK IF YOU ARE QUALIFIED FOR A BONUS: \"))\n",
    "bonus=salary*5/100+salary\n",
    "if YEARS>0 and YEARS<x:\n",
    "    print(\"You have no bonus, your{} is still the same\".format(salary))\n",
    "else:\n",
    "    print(\"Thank you for all your sacrifice, your Salary is now {}\".format(bonus))\n",
    "    \n",
    "    "
   ]
  },
  {
   "cell_type": "code",
   "execution_count": null,
   "metadata": {},
   "outputs": [],
   "source": []
  },
  {
   "cell_type": "code",
   "execution_count": null,
   "metadata": {},
   "outputs": [],
   "source": []
  },
  {
   "cell_type": "code",
   "execution_count": null,
   "metadata": {},
   "outputs": [],
   "source": []
  },
  {
   "cell_type": "code",
   "execution_count": null,
   "metadata": {},
   "outputs": [],
   "source": []
  }
 ],
 "metadata": {
  "kernelspec": {
   "display_name": "Python 3",
   "language": "python",
   "name": "python3"
  },
  "language_info": {
   "codemirror_mode": {
    "name": "ipython",
    "version": 3
   },
   "file_extension": ".py",
   "mimetype": "text/x-python",
   "name": "python",
   "nbconvert_exporter": "python",
   "pygments_lexer": "ipython3",
   "version": "3.8.8"
  }
 },
 "nbformat": 4,
 "nbformat_minor": 4
}
