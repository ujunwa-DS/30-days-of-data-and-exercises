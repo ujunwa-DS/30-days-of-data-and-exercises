{
 "cells": [
  {
   "cell_type": "markdown",
   "metadata": {},
   "source": [
    "## 1. \n",
    "\n",
    "\n",
    "x = 16 - 2 * 5 // 3 + 1\n",
    "\n",
    "\n",
    "y = 2 ** 3 * 3\n",
    "\n",
    "what is x?\n",
    "what is y?\n",
    "\n",
    "Describe the order that the computation occurred in each case. i.e which happened first, followed by which one, etc."
   ]
  },
  {
   "cell_type": "markdown",
   "metadata": {},
   "source": [
    "## 2. \n",
    "Add parenthesis to the expression 6 * 1 - 2 to change the resulting value from 4 to -6."
   ]
  },
  {
   "cell_type": "markdown",
   "metadata": {},
   "source": [
    "## 3. \n",
    "Compute the area of a circle with radius 7, stored into a variable called area. \n",
    "Print a nice message with the answer.\n",
    "\n",
    "Note- Search for the formula to calculate area of a circle. "
   ]
  },
  {
   "cell_type": "markdown",
   "metadata": {},
   "source": [
    "## 4. \n",
    "Write an expression to check to if a number 3, stored in a variable x, is between 0 and 5."
   ]
  },
  {
   "cell_type": "markdown",
   "metadata": {},
   "source": [
    "## 5. \n",
    "\n",
    "Variables x and y refer to Boolean values.\n",
    "\n",
    "\n",
    "a. Write an expression that produces True if both variables are True.\n",
    "\n",
    "b. Write an expression that produces True if at least one of the variables\n",
    "is True.\n",
    "\n",
    "c. write an expression that inverses the result of 5a above."
   ]
  },
  {
   "cell_type": "markdown",
   "metadata": {},
   "source": [
    "## 6.\n",
    "Create a list that contains floats and integers, and write a code to sum all the items in the list."
   ]
  },
  {
   "cell_type": "markdown",
   "metadata": {},
   "source": [
    "## 7.\n",
    "list1 = [3, 5, 1, 3, 9, 5, 7] \n",
    "\n",
    "Write a code to sort this list in increasing order."
   ]
  },
  {
   "cell_type": "markdown",
   "metadata": {},
   "source": [
    "## 8.\n",
    "\n",
    "list2 = [1, 2, 5, 7, 9, 0, 3, 6, 7, 1, 3, 5, 6, 8, ,2, 9, 0, 5, 2, 1, 2, 4, 2]\n",
    "\n",
    "Write a code to count how many times 2 occured in the list"
   ]
  },
  {
   "cell_type": "markdown",
   "metadata": {},
   "source": [
    "## 9.\n",
    "list3 = [\"Tosin\", 10.4, 9, (23, \"Faith\", [10, [\"Chinelo\", \"Sandra\"], 22)], 100, 85.5, 12.4, \"Promise\", (\"11\", 90)]\n",
    "\n",
    "Using string formatting, write a code that slices out \"Chinelo\", \"Faith\", slices out the number 100, 85.5, and 90.\n",
    "\n",
    "Your code should print out: Chinelo couldn't score 100%, she got 90%, However, Faith is a close second with 85.5%.\n",
    "\n",
    "NB: Make sure your output contains % sign"
   ]
  },
  {
   "cell_type": "markdown",
   "metadata": {},
   "source": [
    "## 10.\n",
    "\n",
    "list4 = [\"Chima\", \"Ebuka\", \"Rose\", \"Hassan\", \"Bisi\"]\n",
    "\n",
    "Write a code that removes any of these names and replaces it with your name in that particular index"
   ]
  },
  {
   "cell_type": "markdown",
   "metadata": {},
   "source": [
    "## 11. \n",
    "\n",
    "list4 = [\"Chima\", \"Ebuka\", \"Rose\", \"Hassan\", \"Bisi\"]\n",
    "\n",
    "Write a code that prints out the index positon of the name \"Rose\""
   ]
  },
  {
   "cell_type": "markdown",
   "metadata": {},
   "source": [
    "## 12. \n",
    "\n",
    "list4 = [\"Chima\", \"Ebuka\", \"Rose\", \"Hassan\", \"Bisi\"]\n",
    "\n",
    "Write a code that adds your name to this list of names"
   ]
  },
  {
   "cell_type": "markdown",
   "metadata": {},
   "source": [
    "## 13.\n",
    "sets = {3, 1, 10, 4, 5, 6}\n",
    "\n",
    "Write a code that sorts this set in asceding order. Print the output, explain the out you got and why."
   ]
  },
  {
   "cell_type": "markdown",
   "metadata": {},
   "source": [
    "## 14.\n",
    "\n",
    "- set1 = {10, 20, 30, 40, 50}\n",
    "- set2 = {30, 40, 50, 60, 70}\n",
    "\n",
    "Write a code prints out a new set with all items from both sets by removing duplicates"
   ]
  },
  {
   "cell_type": "code",
   "execution_count": null,
   "metadata": {},
   "outputs": [],
   "source": []
  },
  {
   "cell_type": "markdown",
   "metadata": {},
   "source": [
    "## 15.\n",
    "\n",
    "- Create a string that is a long series of words separated by spaces. \n",
    "It can be names, cities, animals, anything. Just make it up yourself.\n",
    "- Turn the string into a list of words using split. \n",
    "- Delete two words from the list, but delete each one using a different kind of Python method. \n",
    "- Sort the list. \n",
    "- Add two new words to the list using two different kinds of Python operation used in adding items to a list. \n",
    "- Turn the list of words back into a single string using join. \n",
    "- Print the string.\n",
    "\n",
    "NB: Feel free to use Google to find out other ways to add and remove items from a list"
   ]
  },
  {
   "cell_type": "code",
   "execution_count": 10,
   "metadata": {},
   "outputs": [],
   "source": [
    "x = 16 - 2 * 5 // (3 + 1)"
   ]
  },
  {
   "cell_type": "markdown",
   "metadata": {},
   "source": []
  },
  {
   "cell_type": "code",
   "execution_count": 11,
   "metadata": {},
   "outputs": [
    {
     "name": "stdout",
     "output_type": "stream",
     "text": [
      "14\n"
     ]
    }
   ],
   "source": [
    "print(x)\n",
    "#1. multiplication\n",
    "#2. addition\n",
    "#3. division\n",
    "#4. subtraction\n",
    "# it follows the PEMDAS  rule"
   ]
  },
  {
   "cell_type": "code",
   "execution_count": 12,
   "metadata": {},
   "outputs": [
    {
     "name": "stdout",
     "output_type": "stream",
     "text": [
      "24\n"
     ]
    }
   ],
   "source": [
    "y = 2 ** 3 * 3\n",
    "print(y)\n",
    "\n",
    "# 1 exponential of 2**3\n",
    "# multiplication of 8*3"
   ]
  },
  {
   "cell_type": "code",
   "execution_count": 13,
   "metadata": {},
   "outputs": [
    {
     "name": "stdout",
     "output_type": "stream",
     "text": [
      "-6\n"
     ]
    }
   ],
   "source": [
    "#Add parenthesis to the expression 6 * 1 - 2 to change the resulting value from 4 to -6\n",
    "p= 6*(1-2)\n",
    "print (p)"
   ]
  },
  {
   "cell_type": "code",
   "execution_count": 14,
   "metadata": {},
   "outputs": [
    {
     "name": "stdout",
     "output_type": "stream",
     "text": [
      "153.86\n",
      "my love for Aisha's voice is one thousand times bigger than 153.86\n"
     ]
    }
   ],
   "source": [
    "#3.Compute the area of a circle with radius 7, stored into a variable called area. Print a nice message with the answer.\n",
    "\n",
    "b=3.14\n",
    "i =7\n",
    "area=b*i*i\n",
    "print(area)\n",
    "Message = (\"my love for Aisha's voice is one thousand times bigger than {}\" .format (area))\n",
    "print(Message)"
   ]
  },
  {
   "cell_type": "code",
   "execution_count": 15,
   "metadata": {},
   "outputs": [
    {
     "name": "stdout",
     "output_type": "stream",
     "text": [
      "[1, 3, 3, 5, 5, 7, 9]\n",
      "[9, 7, 5, 5, 3, 3, 1]\n",
      "1\n",
      "9\n"
     ]
    }
   ],
   "source": [
    "list1 = [3, 5, 1, 3, 9, 5, 7]\n",
    "\n",
    "lista=sorted(list1)\n",
    "print(lista)\n",
    "print(sorted(lista,reverse=True))\n",
    "print (min(list1))\n",
    "print (max(list1))"
   ]
  },
  {
   "cell_type": "code",
   "execution_count": 16,
   "metadata": {},
   "outputs": [
    {
     "name": "stdout",
     "output_type": "stream",
     "text": [
      "5\n",
      "0\n",
      "[1, 2, 5, 7, 9, 101, 3, 6, 7, 1, 3, 5, 6, 8, 2, 9, 0, 5, 2, 1, 2, 4, 2]\n"
     ]
    }
   ],
   "source": [
    "list2 = [1, 2, 5, 7, 9, 0, 3, 6, 7, 1, 3, 5, 6, 8, 2, 9, 0, 5, 2, 1, 2, 4, 2]\n",
    "print(list2.count(2))\n",
    "life=(list2[5])\n",
    "print (life)\n",
    "life2=list2[5]=101\n",
    "print(list2)"
   ]
  },
  {
   "cell_type": "code",
   "execution_count": 17,
   "metadata": {},
   "outputs": [],
   "source": [
    "#list3 = [\"Tosin\", 10.4, 9, (23, \"Faith\", [10, [\"Chinelo\", \"Sandra\"], 22)], 100, 85.5, 12.4, \"Promise\", (\"11\", 90)]\n",
    "\n",
    "#Using string formatting, write a code that slices out \"Chinelo\", \"Faith\", slices out the number 100, 85.5, and 90.\n",
    "\n",
    "#Your code should print out: Chinelo couldn't score 100%, she got 90%, However, Faith is a close second with 85.5%.\n",
    "\n",
    "#NB: Make sure your output contains % sign"
   ]
  },
  {
   "cell_type": "code",
   "execution_count": 18,
   "metadata": {},
   "outputs": [
    {
     "name": "stdout",
     "output_type": "stream",
     "text": [
      "Faith\n",
      "Chinelo\n",
      "100\n",
      "85.5\n",
      "90\n"
     ]
    }
   ],
   "source": [
    "list3 = [\"Tosin\", 10.4, 9, (23, \"Faith\", [10, [\"Chinelo\", \"Sandra\"], 22]), 100, 85.5, 12.4, \"Promise\", (\"11\", 90)]\n",
    "i=(list3[3][1])\n",
    "print(i)\n",
    "g=(list3[3][2][1][0])\n",
    "print(g)\n",
    "h=(list3[4])\n",
    "print(h)\n",
    "l=(list3[5])\n",
    "print(l)\n",
    "j=(list3[8][1])\n",
    "print(j)\n"
   ]
  },
  {
   "cell_type": "code",
   "execution_count": 19,
   "metadata": {},
   "outputs": [
    {
     "name": "stdout",
     "output_type": "stream",
     "text": [
      "Chinelo couldn't score 100%, she got 90%, however, Faith is a close second with 85.5%\n"
     ]
    }
   ],
   "source": [
    "hi= (\"{} couldn't score {}%, she got {}%, however, {} is a close second with {}%\".format((g),(h),(j),(i),(l)))\n",
    "print(hi)"
   ]
  },
  {
   "cell_type": "code",
   "execution_count": 20,
   "metadata": {},
   "outputs": [
    {
     "name": "stdout",
     "output_type": "stream",
     "text": [
      "['Uju', 'Ebuka', 'Rose', 'Hassan', 'Bisi']\n"
     ]
    }
   ],
   "source": [
    "list4 = [\"Chima\", \"Ebuka\", \"Rose\", \"Hassan\", \"Bisi\"]\n",
    "type(list4)\n",
    "list4[0]=\"Uju\"\n",
    "print(list4)"
   ]
  },
  {
   "cell_type": "code",
   "execution_count": 21,
   "metadata": {},
   "outputs": [
    {
     "data": {
      "text/plain": [
       "2"
      ]
     },
     "execution_count": 21,
     "metadata": {},
     "output_type": "execute_result"
    }
   ],
   "source": [
    "list4 = [\"Chima\", \"Ebuka\", \"Rose\", \"Hassan\", \"Bisi\"]\n",
    "list4.index(\"Rose\")"
   ]
  },
  {
   "cell_type": "code",
   "execution_count": 22,
   "metadata": {},
   "outputs": [
    {
     "name": "stdout",
     "output_type": "stream",
     "text": [
      "['Chima', 'Ebuka', 'Rose', 'Hassan', 'Bisi', 'Uju']\n"
     ]
    }
   ],
   "source": [
    "list4.append(\"Uju\")\n",
    "print(list4)"
   ]
  },
  {
   "cell_type": "code",
   "execution_count": 23,
   "metadata": {},
   "outputs": [
    {
     "name": "stdout",
     "output_type": "stream",
     "text": [
      "{1, 3, 4, 5, 6, 10}\n",
      "<class 'set'>\n",
      "[1, 3, 4, 5, 6, 10]\n"
     ]
    }
   ],
   "source": [
    "sets = {3, 1, 10, 4, 5, 6}\n",
    "print(sets)\n",
    "print(type(sets))\n",
    "print(sorted(sets))\n",
    "#set always print in a sorted form in ascending for. sorting it again is just tautology"
   ]
  },
  {
   "cell_type": "code",
   "execution_count": 24,
   "metadata": {},
   "outputs": [
    {
     "name": "stdout",
     "output_type": "stream",
     "text": [
      "{70, 40, 10, 50, 20, 60, 30}\n"
     ]
    }
   ],
   "source": [
    "set1 = {10, 20, 30, 40, 50}\n",
    "set2 = {30, 40, 50, 60, 70}\n",
    "#Write a code prints out a new set with all items from both sets by removing duplicates\n",
    "print(set1|set2)"
   ]
  },
  {
   "cell_type": "code",
   "execution_count": null,
   "metadata": {},
   "outputs": [],
   "source": [
    "#Create a string that is a long series of words separated by spaces. It can be names, cities, animals, anything. Just make it up yourself.\n",
    "#Turn the string into a list of words using split.\n",
    "#Delete two words from the list, but delete each one using a different kind of Python method.\n",
    "#Sort the list.\n",
    "#Add two new words to the list using two different kinds of Python operation used in adding items to a list.\n",
    "#Turn the list of words back into a single string using join.\n",
    "#Print the string."
   ]
  },
  {
   "cell_type": "code",
   "execution_count": 25,
   "metadata": {},
   "outputs": [
    {
     "name": "stdout",
     "output_type": "stream",
     "text": [
      "The most common reason for alloying is to increase the strength of a metal. This requires that barriers to slip be distributed uniformly throughout the crystalline grains\n"
     ]
    }
   ],
   "source": [
    "let=(\"The most common reason for alloying is to increase the strength of a metal. This requires that barriers to slip be distributed uniformly throughout the crystalline grains\")\n",
    "print(let)"
   ]
  },
  {
   "cell_type": "code",
   "execution_count": 26,
   "metadata": {},
   "outputs": [
    {
     "data": {
      "text/plain": [
       "'The most common reason for alloying is to increase the strength of a metal. This requires that barriers to slip be distributed uniformly throughout the crystalline grains'"
      ]
     },
     "execution_count": 26,
     "metadata": {},
     "output_type": "execute_result"
    }
   ],
   "source": [
    "str(let)"
   ]
  },
  {
   "cell_type": "code",
   "execution_count": 27,
   "metadata": {},
   "outputs": [
    {
     "name": "stdout",
     "output_type": "stream",
     "text": [
      "['The', 'most', 'common', 'reason', 'for', 'alloying', 'is', 'to', 'increase', 'the', 'strength', 'of', 'a', 'metal.', 'This', 'requires', 'that', 'barriers', 'to', 'slip', 'be', 'distributed', 'uniformly', 'throughout', 'the', 'crystalline', 'grains']\n"
     ]
    }
   ],
   "source": [
    "ter=list(let.split(\" \"))\n",
    "print(ter)"
   ]
  },
  {
   "cell_type": "code",
   "execution_count": 28,
   "metadata": {},
   "outputs": [
    {
     "name": "stdout",
     "output_type": "stream",
     "text": [
      "None\n"
     ]
    }
   ],
   "source": [
    "print(ter.remove(\"most\"))"
   ]
  },
  {
   "cell_type": "code",
   "execution_count": 29,
   "metadata": {},
   "outputs": [
    {
     "name": "stdout",
     "output_type": "stream",
     "text": [
      "['The', 'common', 'reason', 'for', 'is', 'to', 'increase', 'the', 'strength', 'of', 'a', 'metal.', 'This', 'requires', 'that', 'barriers', 'to', 'slip', 'be', 'distributed', 'uniformly', 'throughout', 'the', 'crystalline', 'grains']\n"
     ]
    }
   ],
   "source": [
    "ter.pop(4)\n",
    "print(ter)"
   ]
  },
  {
   "cell_type": "code",
   "execution_count": 30,
   "metadata": {},
   "outputs": [
    {
     "name": "stdout",
     "output_type": "stream",
     "text": [
      "['The', 'common', 'reason', 'for', 'is', 'to', 'increase', 'the', 'strength', 'of', 'a', 'metal.', 'This', 'requires', 'that', 'barriers', 'to', 'slip', 'be', 'distributed', 'uniformly', 'throughout', 'the', 'crystalline', 'grains', 'me']\n"
     ]
    }
   ],
   "source": [
    "ter.append(\"me\")\n",
    "print(ter)"
   ]
  },
  {
   "cell_type": "code",
   "execution_count": 31,
   "metadata": {},
   "outputs": [
    {
     "name": "stdout",
     "output_type": "stream",
     "text": [
      "['The', 'most', 'common', 'reason', 'for', 'is', 'to', 'increase', 'the', 'strength', 'of', 'a', 'metal.', 'This', 'requires', 'that', 'barriers', 'to', 'slip', 'be', 'distributed', 'uniformly', 'throughout', 'the', 'crystalline', 'grains', 'me']\n"
     ]
    }
   ],
   "source": [
    "ter[1:1]=[\"most\"]\n",
    "print(ter)"
   ]
  },
  {
   "cell_type": "code",
   "execution_count": 32,
   "metadata": {},
   "outputs": [
    {
     "name": "stdout",
     "output_type": "stream",
     "text": [
      "The most common reason for is to increase the strength of a metal. This requires that barriers to slip be distributed uniformly throughout the crystalline grains me\n"
     ]
    }
   ],
   "source": [
    "lol=\" \".join(ter)\n",
    "print(lol)"
   ]
  },
  {
   "cell_type": "code",
   "execution_count": 33,
   "metadata": {},
   "outputs": [
    {
     "name": "stdout",
     "output_type": "stream",
     "text": [
      "0\n",
      "1\n",
      "2\n",
      "3\n",
      "4\n",
      "5\n"
     ]
    }
   ],
   "source": [
    "#Write an expression to check to if a number 3, stored in a variable x, is between 0 and 5.\n",
    "x=range(6)\n",
    "for n in x:\n",
    "    print(n)"
   ]
  },
  {
   "cell_type": "code",
   "execution_count": 34,
   "metadata": {},
   "outputs": [
    {
     "name": "stdout",
     "output_type": "stream",
     "text": [
      "yes\n"
     ]
    }
   ],
   "source": [
    "b=3\n",
    "if b>0<=5:\n",
    "    print(\"yes\")\n"
   ]
  },
  {
   "cell_type": "code",
   "execution_count": 35,
   "metadata": {},
   "outputs": [],
   "source": [
    "#Variables x and y refer to Boolean values.\n",
    "\n",
    "#a. Write an expression that produces True if both variables are True.\n",
    "\n",
    "#b. Write an expression that produces True if at least one of the variables is True.\n",
    "\n",
    "#c. write an expression that inverses the result of 5a above."
   ]
  },
  {
   "cell_type": "code",
   "execution_count": 36,
   "metadata": {},
   "outputs": [
    {
     "name": "stdout",
     "output_type": "stream",
     "text": [
      "True\n"
     ]
    }
   ],
   "source": [
    "x=True\n",
    "y=False\n",
    "a=3\n",
    "b=5\n",
    "#a. Write an expression that produces True if both variables are True\n",
    "li=a>0 and 0<b\n",
    "print(li)"
   ]
  },
  {
   "cell_type": "code",
   "execution_count": 37,
   "metadata": {},
   "outputs": [
    {
     "name": "stdout",
     "output_type": "stream",
     "text": [
      "True\n"
     ]
    }
   ],
   "source": [
    "#b. Write an expression that produces True if at least one of the variables is True.\n",
    "print(a > 0 or b==0)"
   ]
  },
  {
   "cell_type": "code",
   "execution_count": 38,
   "metadata": {},
   "outputs": [
    {
     "name": "stdout",
     "output_type": "stream",
     "text": [
      "False\n"
     ]
    }
   ],
   "source": [
    "print(not li)"
   ]
  },
  {
   "cell_type": "code",
   "execution_count": 39,
   "metadata": {},
   "outputs": [
    {
     "ename": "TypeError",
     "evalue": "int() argument must be a string, a bytes-like object or a number, not 'tuple'",
     "output_type": "error",
     "traceback": [
      "\u001b[1;31m---------------------------------------------------------------------------\u001b[0m",
      "\u001b[1;31mTypeError\u001b[0m                                 Traceback (most recent call last)",
      "\u001b[1;32m<ipython-input-39-086abe729294>\u001b[0m in \u001b[0;36m<module>\u001b[1;34m\u001b[0m\n\u001b[0;32m      7\u001b[0m \u001b[0mhh\u001b[0m\u001b[1;33m=\u001b[0m\u001b[0mtuple\u001b[0m\u001b[1;33m(\u001b[0m\u001b[0mhello\u001b[0m\u001b[1;33m)\u001b[0m\u001b[1;33m\u001b[0m\u001b[1;33m\u001b[0m\u001b[0m\n\u001b[0;32m      8\u001b[0m \u001b[0mtype\u001b[0m\u001b[1;33m(\u001b[0m\u001b[0mhh\u001b[0m\u001b[1;33m)\u001b[0m\u001b[1;33m\u001b[0m\u001b[1;33m\u001b[0m\u001b[0m\n\u001b[1;32m----> 9\u001b[1;33m \u001b[0mlife\u001b[0m\u001b[1;33m=\u001b[0m\u001b[0mint\u001b[0m\u001b[1;33m(\u001b[0m\u001b[0mhh\u001b[0m\u001b[1;33m)\u001b[0m\u001b[1;33m\u001b[0m\u001b[1;33m\u001b[0m\u001b[0m\n\u001b[0m",
      "\u001b[1;31mTypeError\u001b[0m: int() argument must be a string, a bytes-like object or a number, not 'tuple'"
     ]
    }
   ],
   "source": [
    "#Create a list that contains floats and integers, and write a code to sum all the items in the list.\n",
    "tired=[2,3,4,1]\n",
    "hello=[3.3,2.2,1.0,2.2]\n",
    "type(tired)\n",
    "hi=tuple(tired)\n",
    "type(hi)\n",
    "hh=tuple(hello)\n",
    "type(hh)\n",
    "life=int(hh)"
   ]
  },
  {
   "cell_type": "code",
   "execution_count": 9,
   "metadata": {},
   "outputs": [
    {
     "name": "stdout",
     "output_type": "stream",
     "text": [
      "Type Markdown and LaTeX:  𝛼**2\n"
     ]
    }
   ],
   "source": [
    "print (\"Type Markdown and LaTeX:  𝛼**2\")"
   ]
  },
  {
   "cell_type": "code",
   "execution_count": null,
   "metadata": {},
   "outputs": [],
   "source": []
  }
 ],
 "metadata": {
  "kernelspec": {
   "display_name": "Python 3",
   "language": "python",
   "name": "python3"
  },
  "language_info": {
   "codemirror_mode": {
    "name": "ipython",
    "version": 3
   },
   "file_extension": ".py",
   "mimetype": "text/x-python",
   "name": "python",
   "nbconvert_exporter": "python",
   "pygments_lexer": "ipython3",
   "version": "3.8.8"
  }
 },
 "nbformat": 4,
 "nbformat_minor": 4
}
