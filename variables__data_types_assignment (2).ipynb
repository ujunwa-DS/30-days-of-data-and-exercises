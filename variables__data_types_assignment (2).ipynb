{
 "cells": [
  {
   "cell_type": "markdown",
   "metadata": {},
   "source": [
    "\n",
    "\n",
    "1. What is a variable?\n",
    "\n",
    "2. Give 5 examples of variables with corresponding values.\n",
    "\n",
    "3. State the data type for each of the following variables:\n",
    "- b = False\n",
    "- number = \"1000\"\n",
    "- radius = 7.0\n",
    "- diameter = 14\n",
    "- country = 'Nigeria'\n",
    "\n",
    "4. Fix this string\n",
    "quote = 'You're right, he won't agree to this deal.'\n",
    "\n",
    "5. What happens when you call a string method like islower() on a float object? For example, 15.55.islower()\n",
    "\n",
    "6. Write two lines of code each assigning a value to a variable. Now write a print statement using .format() to print out a sentence containing the values of both of the variables.\n",
    "\n",
    "\n",
    "7. You’ve been provided below with example data for a user, the time of their visit and the site they accessed. You should use the variables provided and the techniques you’ve learned to print a log message like this one  \"Amina accessed the site http://kadatemy.com/courses/pythonfordatascience/class1 at 09:20.\" (with the username, url, and timestamp replaced with values from the appropriate variables). \n"
   ]
  },
  {
   "cell_type": "code",
   "execution_count": null,
   "metadata": {},
   "outputs": [],
   "source": [
    "username = \"Faith\"\n",
    "timestamp = \"07:50\"\n",
    "url = \"http://kadatemy.com/courses/pythonfordatascience/class1\"\n",
    "\n"
   ]
  },
  {
   "cell_type": "markdown",
   "metadata": {},
   "source": [
    "8. Consider this string\n",
    "str1 = \"Python exercises are fun. It is very satisfying to solve problems using this computer language.\"\n",
    "- a- Print the length of the string\n",
    "- b- Show the first and last characters of the string.\n",
    "- c- print the characters \"exercises\" from the string using the right index, do the same for \"language\".\n",
    "- d- By using first, second and last characters of the string, create a new string\n",
    "- e- Which character occurs more often in the string? \"e\" or \"s\" ? Print both counts inside the print function.\n",
    "\n",
    "9. Consider this string \n",
    "str2 = \"  I'm enjoying this a lot! I could do with more exercises.   \"\n",
    "- a- Return the string without any whitespace at the beginning or the end.\n",
    "- b- what is the result of using the method isnumeric() on this string\n",
    "- c- usind a method, return the last position of where \"i\" is found\n",
    "\n",
    "10. Return the output of concatenating the strings provided in in question 8 and 9.\n",
    "\n",
    "11. Use an appropriate method that returns True if all characters in this string are digits.\n",
    "x = \"3490003\""
   ]
  },
  {
   "cell_type": "code",
   "execution_count": 1,
   "metadata": {},
   "outputs": [
    {
     "name": "stdout",
     "output_type": "stream",
     "text": [
      "You're right, he won't agree to this deal.\n"
     ]
    }
   ],
   "source": [
    "#1. A variable is a name given to a value or strings in order to help the system store it and memorize it for use. \n",
    "\n",
    "#variable A,B,C,D, E\n",
    "#A= 17\n",
    "#B= \"17\"\n",
    "#C= Kadatemy is nice\n",
    "#D= I love Aish/s voice\n",
    "#E = I can/t wait for if and else statement class. \n",
    "\n",
    "\n",
    "#b= bool\n",
    "#number = string\n",
    "#radius= float\n",
    "#diameter = int\n",
    "#country =string\n",
    "\n",
    "fixed=\"You're right, he won't agree to this deal.\"\n",
    "print (fixed)\n",
    "\n",
    "#5: islower() shows error message indicating that islower doesnt work on float. \n",
    "\n"
   ]
  },
  {
   "cell_type": "code",
   "execution_count": 2,
   "metadata": {},
   "outputs": [
    {
     "name": "stdout",
     "output_type": "stream",
     "text": [
      "I love the fact that this assignment is making me right alot of codes, that is whyI love Kadatemy really because kadatemy is for beginners\n"
     ]
    }
   ],
   "source": [
    "c= \"I love Kadatemy\" \n",
    "a= \"because kadatemy is for beginners\"\n",
    "my_little_work= (\"I love the fact that this assignment is making me right alot of codes, that is why{} really {}\".format(c,a))\n",
    "print (my_little_work)"
   ]
  },
  {
   "cell_type": "code",
   "execution_count": 3,
   "metadata": {},
   "outputs": [],
   "source": [
    "username = \"Faith\"\n",
    "timestamp = \"07:50\"\n",
    "url = \"http://kadatemy.com/courses/pythonfordatascience/class1\""
   ]
  },
  {
   "cell_type": "code",
   "execution_count": 4,
   "metadata": {},
   "outputs": [
    {
     "name": "stdout",
     "output_type": "stream",
     "text": [
      "Faith accessed the site http://kadatemy.com/courses/pythonfordatascience/class1 at 07:50\n"
     ]
    }
   ],
   "source": [
    "work=\"Amina accessed the site http://kadatemy.com/courses/pythonfordatascience/class1 at 09:20\"\n",
    "work2= (work.replace(\"Amina\",username ))\n",
    "work3=(work2.replace(\"http://kadatemy.com/courses/pythonfordatascience/class1\",url))\n",
    "work4=(work3.replace(\"09:20\", timestamp))\n",
    "print(work4)"
   ]
  },
  {
   "cell_type": "code",
   "execution_count": 5,
   "metadata": {},
   "outputs": [
    {
     "name": "stdout",
     "output_type": "stream",
     "text": [
      "95\n",
      "P\n",
      ".\n"
     ]
    }
   ],
   "source": [
    "str1 = \"Python exercises are fun. It is very satisfying to solve problems using this computer language.\"\n",
    "print (len(str1))\n",
    "print (str1[0])\n",
    "print (str1[-1])"
   ]
  },
  {
   "cell_type": "code",
   "execution_count": 6,
   "metadata": {},
   "outputs": [
    {
     "name": "stdout",
     "output_type": "stream",
     "text": [
      "exercises\n"
     ]
    }
   ],
   "source": [
    "print(str1[7:16])\n"
   ]
  },
  {
   "cell_type": "code",
   "execution_count": 7,
   "metadata": {},
   "outputs": [
    {
     "name": "stdout",
     "output_type": "stream",
     "text": [
      "language.\n"
     ]
    }
   ],
   "source": [
    "print(str1[-9:])\n"
   ]
  },
  {
   "cell_type": "code",
   "execution_count": 8,
   "metadata": {},
   "outputs": [
    {
     "name": "stdout",
     "output_type": "stream",
     "text": [
      "Python exercises  language.\n"
     ]
    }
   ],
   "source": [
    "hey=str1[:7]\n",
    "you=str1[7:17]\n",
    "dear=str1[-10:]\n",
    "print(hey + you + dear)"
   ]
  },
  {
   "cell_type": "code",
   "execution_count": 9,
   "metadata": {},
   "outputs": [
    {
     "name": "stdout",
     "output_type": "stream",
     "text": [
      "9\n",
      "9\n"
     ]
    }
   ],
   "source": [
    "print (str1.count(\"e\"))\n",
    "print (str1.count(\"s\"))"
   ]
  },
  {
   "cell_type": "code",
   "execution_count": 11,
   "metadata": {},
   "outputs": [],
   "source": [
    "str2 = \" I'm enjoying this a lot! I could do with more exercises. \""
   ]
  },
  {
   "cell_type": "code",
   "execution_count": 12,
   "metadata": {},
   "outputs": [
    {
     "data": {
      "text/plain": [
       "False"
      ]
     },
     "execution_count": 12,
     "metadata": {},
     "output_type": "execute_result"
    }
   ],
   "source": [
    "str2.isnumeric()"
   ]
  },
  {
   "cell_type": "code",
   "execution_count": 13,
   "metadata": {},
   "outputs": [
    {
     "data": {
      "text/plain": [
       "\"I'm enjoying this a lot! I could do with more exercises.\""
      ]
     },
     "execution_count": 13,
     "metadata": {},
     "output_type": "execute_result"
    }
   ],
   "source": [
    "str2.strip()"
   ]
  },
  {
   "cell_type": "code",
   "execution_count": 14,
   "metadata": {},
   "outputs": [
    {
     "data": {
      "text/plain": [
       "\" I'm enjoying this a lot! I could do with more exercises. \""
      ]
     },
     "execution_count": 14,
     "metadata": {},
     "output_type": "execute_result"
    }
   ],
   "source": [
    "str2.rjust(1)"
   ]
  },
  {
   "cell_type": "code",
   "execution_count": 15,
   "metadata": {},
   "outputs": [
    {
     "name": "stdout",
     "output_type": "stream",
     "text": [
      "Python exercises are fun. It is very satisfying to solve problems using this computer language. I'm enjoying this a lot! I could do with more exercises. \n"
     ]
    }
   ],
   "source": [
    "def fun():\n",
    "    a=str1\n",
    "    b=str2\n",
    "    return (a+b)\n",
    "yes= fun()\n",
    "print(yes)"
   ]
  },
  {
   "cell_type": "code",
   "execution_count": 16,
   "metadata": {},
   "outputs": [
    {
     "data": {
      "text/plain": [
       "True"
      ]
     },
     "execution_count": 16,
     "metadata": {},
     "output_type": "execute_result"
    }
   ],
   "source": [
    "x = \"3490003\"\n",
    "x.isdigit()"
   ]
  },
  {
   "cell_type": "code",
   "execution_count": null,
   "metadata": {},
   "outputs": [],
   "source": []
  }
 ],
 "metadata": {
  "kernelspec": {
   "display_name": "Python 3",
   "language": "python",
   "name": "python3"
  },
  "language_info": {
   "codemirror_mode": {
    "name": "ipython",
    "version": 3
   },
   "file_extension": ".py",
   "mimetype": "text/x-python",
   "name": "python",
   "nbconvert_exporter": "python",
   "pygments_lexer": "ipython3",
   "version": "3.8.8"
  }
 },
 "nbformat": 4,
 "nbformat_minor": 4
}
