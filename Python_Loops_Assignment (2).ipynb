{
 "cells": [
  {
   "cell_type": "markdown",
   "metadata": {
    "id": "IoQa2eN8bWTA"
   },
   "source": [
    "# 1.\n",
    "\n",
    "A particular zoo determines the price of admission based on the age of the guest.\n",
    "\n",
    "Guests 2 years of age and less are admitted without charge. Children between 3 and 12 years of age cost $14.00.\n",
    "\n",
    "Seniors aged 65 years and over cost $18.00.\n",
    "\n",
    "Admission for all other guests is $23.00.\n",
    "\n",
    "Create a program that begins by reading the ages of all of the guests in a group from the user, with one age entered on each line. The user will enter a blank line to indicate that there are no more guests in the group. Then your program should display the admission cost for the group with an appropriate message.\n",
    "\n",
    "The cost should be displayed using two decimal places."
   ]
  },
  {
   "cell_type": "code",
   "execution_count": 4,
   "metadata": {},
   "outputs": [
    {
     "name": "stdout",
     "output_type": "stream",
     "text": [
      "please input your age: 43\n",
      "your price is 23.00\n",
      "please input your age: 76\n",
      "your price is 18.00\n",
      "please input your age: 89\n",
      "your price is 18.00\n",
      "please input your age: 0\n",
      "thanks for visiting\n"
     ]
    }
   ],
   "source": [
    "client=[]\n",
    "while len(client)<10000000000000000:\n",
    "    value=int(input(\"please input your age: \"))\n",
    "    client.append(value)\n",
    "    if value<=2 and value>0:\n",
    "        print(\"your price is 0.00\")\n",
    "    elif value<=12 and value>2:\n",
    "        print(\"your price is 14.00\")\n",
    "    elif value<=64 and value>12:\n",
    "        print(\"your price is 23.00\")\n",
    "    elif value<=1000 and value>64:\n",
    "        print(\"your price is 18.00\")\n",
    "    if value==0:\n",
    "        print(\"thanks for visiting\")\n",
    "        break\n",
    "    "
   ]
  },
  {
   "cell_type": "markdown",
   "metadata": {
    "id": "93BM6vNHb6tx"
   },
   "source": [
    "# 2.\n",
    "\n",
    "A particular retailer is having a 60 percent off sale on a variety of discontinued products. \n",
    "\n",
    "The retailer would like to help its customers determine the reduced price of the merchandise by having a printed discount table on the shelf that shows the original prices and the prices after the discount has been applied. \n",
    "\n",
    "Write a program that uses a loop to generate this table, showing the original price, the discount amount, and the new price for purchases of $4.95, $9.95, $14.95, $19.95 and $24.95. \n",
    "\n",
    "Ensure that the discount amounts and the new prices are rounded to 2 decimal places when they are displayed.\n"
   ]
  },
  {
   "cell_type": "code",
   "execution_count": 5,
   "metadata": {},
   "outputs": [
    {
     "name": "stdout",
     "output_type": "stream",
     "text": [
      "2.97     1.98\n",
      "5.97     3.98\n",
      "8.97     5.98\n",
      "11.97     7.98\n",
      "14.97     9.98\n"
     ]
    }
   ],
   "source": [
    "fun=[4.95,9.95,14.95, 19.95, 24.95]\n",
    "for i in fun:\n",
    "    discount=(i*60/100)\n",
    "    newprice=round((i-i*60/100), 4)\n",
    "    print(discount, \"   \", newprice)"
   ]
  },
  {
   "cell_type": "code",
   "execution_count": 6,
   "metadata": {},
   "outputs": [
    {
     "name": "stdout",
     "output_type": "stream",
     "text": [
      "old_price\t\t discount\t\t new price\n",
      "4.95 \t\t\t 2.97 \t\t\t 1.98\n",
      "9.95 \t\t\t 5.97 \t\t\t 3.98\n",
      "14.95 \t\t\t 8.97 \t\t\t 5.98\n",
      "19.95 \t\t\t 11.97 \t\t\t 7.98\n",
      "24.95 \t\t\t 14.97 \t\t\t 9.98\n"
     ]
    }
   ],
   "source": [
    "old_price=[4.95,9.95,14.95, 19.95, 24.95]\n",
    "print(\"old_price\\t\\t discount\\t\\t new price\")\n",
    "for i in old_price:\n",
    "    print (\"%.2f\" %(i), \"\\t\\t\\t %.2f\" %(i*60/100),  \"\\t\\t\\t %.2f\" % (i-((i*60/100))))"
   ]
  },
  {
   "cell_type": "markdown",
   "metadata": {
    "id": "twwmmHWsioYl"
   },
   "source": [
    "## 3.\n",
    "\n",
    "lst=[10, 99, 98, 85, 22, 34, 78, 98, 12, 35, 13, 100, 80, 95]\n",
    "\n",
    "Using while loop, and if statement; iterate through the list and if there is a 100, print it with its index number. i.e.: \n",
    "\n",
    "\"There is a 100 at index no: 4\"\n",
    "\n"
   ]
  },
  {
   "cell_type": "code",
   "execution_count": 6,
   "metadata": {},
   "outputs": [
    {
     "name": "stdout",
     "output_type": "stream",
     "text": [
      "work\n",
      "work\n",
      "work\n",
      "work\n",
      "work\n",
      "work\n",
      "work\n",
      "work\n",
      "work\n",
      "work\n",
      "work\n",
      "there is a 100 at index no 11 \n",
      "work\n",
      "work\n"
     ]
    }
   ],
   "source": [
    "C=[10, 99, 98, 85, 22, 34, 78, 98, 12, 35, 13, 100, 80, 95]\n",
    "p=C.index(100)\n",
    "x=0\n",
    "while x< len(C):\n",
    "    if C[x]==100:\n",
    "        print(\"there is a 100 at index no {} \".format(p))\n",
    "    else:\n",
    "        print (\"work\")\n",
    "    x=x+1"
   ]
  },
  {
   "cell_type": "markdown",
   "metadata": {
    "id": "PRRHzHgZjBZE"
   },
   "source": [
    "## 4.\n",
    "\n",
    "Write a python program to read three numbers (a,b,c) and check how many numbers between ‘a’ and ‘b’ are divisible by ‘c’"
   ]
  },
  {
   "cell_type": "code",
   "execution_count": 7,
   "metadata": {},
   "outputs": [
    {
     "name": "stdout",
     "output_type": "stream",
     "text": [
      "60\n",
      "267\n",
      " Within the range of 0-180 and 0-801, there are 60 and 267 number divisible by 3 respectively\n"
     ]
    }
   ],
   "source": [
    "a=180\n",
    "c=3\n",
    "num1=[]\n",
    "for i in range(180):\n",
    "    if i % c==0:\n",
    "        num1.append(i)\n",
    "fix=len(num1)\n",
    "print(fix)\n",
    "b=801\n",
    "c=3\n",
    "num2=[]\n",
    "for i in range(801):\n",
    "    if i % c==0:\n",
    "        num2.append(i)\n",
    "        \n",
    "fix2=(len(num2))\n",
    "print(fix2)\n",
    "print(\" Within the range of 0-{} and 0-{}, there are {} and {} number divisible by 3 respectively\".format((a),(b),(fix),(fix2)))\n",
    "        \n"
   ]
  },
  {
   "cell_type": "markdown",
   "metadata": {
    "id": "aj0eqpwgjmLc"
   },
   "source": [
    "## 5.\n",
    "\n",
    "Create a for loop that prompts the user for a name 3 times, then appends each one to names."
   ]
  },
  {
   "cell_type": "code",
   "execution_count": 8,
   "metadata": {},
   "outputs": [
    {
     "name": "stdout",
     "output_type": "stream",
     "text": [
      "please input your first name: uju\n",
      "please input your second name: agatha\n",
      "please input your last name: ogbu\n",
      "['uju', 'agatha', 'ogbu']\n"
     ]
    }
   ],
   "source": [
    "names=[]\n",
    "work1=input(\"please input your first name: \")\n",
    "work2=input(\"please input your second name: \")\n",
    "work3=input(\"please input your last name: \")\n",
    "for i in work1,work2,work3:\n",
    "    names.append(i)\n",
    "print(names)"
   ]
  },
  {
   "cell_type": "markdown",
   "metadata": {
    "id": "owfZVZ6Sksx7"
   },
   "source": [
    "## 6.\n",
    "\n",
    "Use a loop to print out every character in the string \"Python\", except the \"o\""
   ]
  },
  {
   "cell_type": "code",
   "execution_count": 9,
   "metadata": {},
   "outputs": [
    {
     "name": "stdout",
     "output_type": "stream",
     "text": [
      "p\n",
      "y\n",
      "t\n",
      "h\n",
      "n\n"
     ]
    }
   ],
   "source": [
    "mark =\"python\"\n",
    "pick=list(mark)\n",
    "for pick in mark:\n",
    "    if pick==\"o\":\n",
    "        continue\n",
    "    print (pick)\n",
    " \n"
   ]
  },
  {
   "cell_type": "markdown",
   "metadata": {
    "id": "wGqS7DaYk_1F"
   },
   "source": [
    "## 7. \n",
    "\n",
    "Write a program that computes the average of a collection\n",
    "of values entered by the user. \n",
    "\n",
    "The user will enter 0 as a sentinel value to indicate\n",
    "that no further values will be provided. \n",
    "\n",
    "Your program should display an appropriate\n",
    "error message if the first value entered by the user is 0."
   ]
  },
  {
   "cell_type": "code",
   "execution_count": 8,
   "metadata": {
    "id": "wvJM7sUKlIJs"
   },
   "outputs": [
    {
     "name": "stdout",
     "output_type": "stream",
     "text": [
      "input your value: 32\n",
      "[32]\n",
      "input your value: 32\n",
      "[32, 32]\n",
      "input your value: 0\n",
      "[32, 32, 0]\n",
      "21.333333333333332\n"
     ]
    }
   ],
   "source": [
    "client=[]\n",
    "while len(client)<100000000000:\n",
    "    value=int(input(\"input your value: \"))\n",
    "    client.append(value)\n",
    "    print(client)\n",
    "    if value==0:\n",
    "        hi=sum(client)\n",
    "        cat=hi/len(client)\n",
    "        print(cat)\n",
    "        break\n",
    "             \n",
    "        \n"
   ]
  },
  {
   "cell_type": "code",
   "execution_count": null,
   "metadata": {},
   "outputs": [],
   "source": []
  }
 ],
 "metadata": {
  "colab": {
   "name": "Python Loops Assignment",
   "provenance": []
  },
  "kernelspec": {
   "display_name": "Python 3",
   "language": "python",
   "name": "python3"
  },
  "language_info": {
   "codemirror_mode": {
    "name": "ipython",
    "version": 3
   },
   "file_extension": ".py",
   "mimetype": "text/x-python",
   "name": "python",
   "nbconvert_exporter": "python",
   "pygments_lexer": "ipython3",
   "version": "3.8.8"
  }
 },
 "nbformat": 4,
 "nbformat_minor": 1
}
