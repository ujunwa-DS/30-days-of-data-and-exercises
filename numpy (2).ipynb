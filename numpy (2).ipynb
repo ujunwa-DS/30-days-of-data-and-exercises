{
 "cells": [
  {
   "cell_type": "markdown",
   "metadata": {
    "id": "F3TRjccJONWB"
   },
   "source": [
    "1. Create a nested list which contains the name, age and race of 10 people each. Turn this list to a dataframe."
   ]
  },
  {
   "cell_type": "code",
   "execution_count": 3,
   "metadata": {},
   "outputs": [
    {
     "data": {
      "text/plain": [
       "[['ije', '1', 'oma'],\n",
       " ['lil', '1', 'uju'],\n",
       " ['nwa', '3', 'seun'],\n",
       " ['amy', '4', 'nora'],\n",
       " ['aa', '5', 'bb'],\n",
       " ['yoruba', '6', 'ihhhh'],\n",
       " ['igbo', '7', 'ibibio'],\n",
       " ['shhhh', '8', 'lollll'],\n",
       " ['flyyy', '9', 'disah'],\n",
       " ['whhh', '10', 'shyff']]"
      ]
     },
     "execution_count": 3,
     "metadata": {},
     "output_type": "execute_result"
    }
   ],
   "source": [
    "import pandas as pd\n",
    "list1=[[\"ije\",\"1\",\"oma\"],[\"lil\", \"1\",\"uju\"],[\"nwa\",\"3\", \"seun\"], [\"amy\",\"4\" ,\"nora\"], [\"aa\",\"5\", \"bb\"],[\"yoruba\",\"6\" ,\"ihhhh\"], [\"igbo\",\"7\",\"ibibio\"], [\"shhhh\",\"8\", \"lollll\"],[\"flyyy\", \"9\",\"disah\"],[\"whhh\",\"10\",\"shyff\"]]\n",
    "list1"
   ]
  },
  {
   "cell_type": "markdown",
   "metadata": {
    "id": "EwSu_P0NONWF"
   },
   "source": [
    "2. Label the columns with the appropriate column names"
   ]
  },
  {
   "cell_type": "code",
   "execution_count": 4,
   "metadata": {},
   "outputs": [
    {
     "data": {
      "text/html": [
       "<div>\n",
       "<style scoped>\n",
       "    .dataframe tbody tr th:only-of-type {\n",
       "        vertical-align: middle;\n",
       "    }\n",
       "\n",
       "    .dataframe tbody tr th {\n",
       "        vertical-align: top;\n",
       "    }\n",
       "\n",
       "    .dataframe thead th {\n",
       "        text-align: right;\n",
       "    }\n",
       "</style>\n",
       "<table border=\"1\" class=\"dataframe\">\n",
       "  <thead>\n",
       "    <tr style=\"text-align: right;\">\n",
       "      <th></th>\n",
       "      <th>Name</th>\n",
       "      <th>Age</th>\n",
       "      <th>Race</th>\n",
       "    </tr>\n",
       "  </thead>\n",
       "  <tbody>\n",
       "    <tr>\n",
       "      <th>0</th>\n",
       "      <td>ije</td>\n",
       "      <td>1</td>\n",
       "      <td>oma</td>\n",
       "    </tr>\n",
       "    <tr>\n",
       "      <th>1</th>\n",
       "      <td>lil</td>\n",
       "      <td>1</td>\n",
       "      <td>uju</td>\n",
       "    </tr>\n",
       "    <tr>\n",
       "      <th>2</th>\n",
       "      <td>nwa</td>\n",
       "      <td>3</td>\n",
       "      <td>seun</td>\n",
       "    </tr>\n",
       "    <tr>\n",
       "      <th>3</th>\n",
       "      <td>amy</td>\n",
       "      <td>4</td>\n",
       "      <td>nora</td>\n",
       "    </tr>\n",
       "    <tr>\n",
       "      <th>4</th>\n",
       "      <td>aa</td>\n",
       "      <td>5</td>\n",
       "      <td>bb</td>\n",
       "    </tr>\n",
       "    <tr>\n",
       "      <th>5</th>\n",
       "      <td>yoruba</td>\n",
       "      <td>6</td>\n",
       "      <td>ihhhh</td>\n",
       "    </tr>\n",
       "    <tr>\n",
       "      <th>6</th>\n",
       "      <td>igbo</td>\n",
       "      <td>7</td>\n",
       "      <td>ibibio</td>\n",
       "    </tr>\n",
       "    <tr>\n",
       "      <th>7</th>\n",
       "      <td>shhhh</td>\n",
       "      <td>8</td>\n",
       "      <td>lollll</td>\n",
       "    </tr>\n",
       "    <tr>\n",
       "      <th>8</th>\n",
       "      <td>flyyy</td>\n",
       "      <td>9</td>\n",
       "      <td>disah</td>\n",
       "    </tr>\n",
       "    <tr>\n",
       "      <th>9</th>\n",
       "      <td>whhh</td>\n",
       "      <td>10</td>\n",
       "      <td>shyff</td>\n",
       "    </tr>\n",
       "  </tbody>\n",
       "</table>\n",
       "</div>"
      ],
      "text/plain": [
       "     Name Age    Race\n",
       "0     ije   1     oma\n",
       "1     lil   1     uju\n",
       "2     nwa   3    seun\n",
       "3     amy   4    nora\n",
       "4      aa   5      bb\n",
       "5  yoruba   6   ihhhh\n",
       "6    igbo   7  ibibio\n",
       "7   shhhh   8  lollll\n",
       "8   flyyy   9   disah\n",
       "9    whhh  10   shyff"
      ]
     },
     "execution_count": 4,
     "metadata": {},
     "output_type": "execute_result"
    }
   ],
   "source": [
    "name=pd.DataFrame(list1, columns=[\"Name\",\"Age\", \"Race\"])\n",
    "name"
   ]
  },
  {
   "cell_type": "markdown",
   "metadata": {
    "id": "7gSj1WGuONWG"
   },
   "source": [
    "3. Add a new column to your dataframe called weight and enter values for it."
   ]
  },
  {
   "cell_type": "code",
   "execution_count": 5,
   "metadata": {},
   "outputs": [
    {
     "data": {
      "text/html": [
       "<div>\n",
       "<style scoped>\n",
       "    .dataframe tbody tr th:only-of-type {\n",
       "        vertical-align: middle;\n",
       "    }\n",
       "\n",
       "    .dataframe tbody tr th {\n",
       "        vertical-align: top;\n",
       "    }\n",
       "\n",
       "    .dataframe thead th {\n",
       "        text-align: right;\n",
       "    }\n",
       "</style>\n",
       "<table border=\"1\" class=\"dataframe\">\n",
       "  <thead>\n",
       "    <tr style=\"text-align: right;\">\n",
       "      <th></th>\n",
       "      <th>Name</th>\n",
       "      <th>Age</th>\n",
       "      <th>Race</th>\n",
       "      <th>Weight</th>\n",
       "    </tr>\n",
       "  </thead>\n",
       "  <tbody>\n",
       "    <tr>\n",
       "      <th>0</th>\n",
       "      <td>ije</td>\n",
       "      <td>1</td>\n",
       "      <td>oma</td>\n",
       "      <td>12</td>\n",
       "    </tr>\n",
       "    <tr>\n",
       "      <th>1</th>\n",
       "      <td>lil</td>\n",
       "      <td>1</td>\n",
       "      <td>uju</td>\n",
       "      <td>13</td>\n",
       "    </tr>\n",
       "    <tr>\n",
       "      <th>2</th>\n",
       "      <td>nwa</td>\n",
       "      <td>3</td>\n",
       "      <td>seun</td>\n",
       "      <td>24</td>\n",
       "    </tr>\n",
       "    <tr>\n",
       "      <th>3</th>\n",
       "      <td>amy</td>\n",
       "      <td>4</td>\n",
       "      <td>nora</td>\n",
       "      <td>15</td>\n",
       "    </tr>\n",
       "    <tr>\n",
       "      <th>4</th>\n",
       "      <td>aa</td>\n",
       "      <td>5</td>\n",
       "      <td>bb</td>\n",
       "      <td>17</td>\n",
       "    </tr>\n",
       "    <tr>\n",
       "      <th>5</th>\n",
       "      <td>yoruba</td>\n",
       "      <td>6</td>\n",
       "      <td>ihhhh</td>\n",
       "      <td>19</td>\n",
       "    </tr>\n",
       "    <tr>\n",
       "      <th>6</th>\n",
       "      <td>igbo</td>\n",
       "      <td>7</td>\n",
       "      <td>ibibio</td>\n",
       "      <td>20</td>\n",
       "    </tr>\n",
       "    <tr>\n",
       "      <th>7</th>\n",
       "      <td>shhhh</td>\n",
       "      <td>8</td>\n",
       "      <td>lollll</td>\n",
       "      <td>15</td>\n",
       "    </tr>\n",
       "    <tr>\n",
       "      <th>8</th>\n",
       "      <td>flyyy</td>\n",
       "      <td>9</td>\n",
       "      <td>disah</td>\n",
       "      <td>15</td>\n",
       "    </tr>\n",
       "    <tr>\n",
       "      <th>9</th>\n",
       "      <td>whhh</td>\n",
       "      <td>10</td>\n",
       "      <td>shyff</td>\n",
       "      <td>20</td>\n",
       "    </tr>\n",
       "  </tbody>\n",
       "</table>\n",
       "</div>"
      ],
      "text/plain": [
       "     Name Age    Race  Weight\n",
       "0     ije   1     oma      12\n",
       "1     lil   1     uju      13\n",
       "2     nwa   3    seun      24\n",
       "3     amy   4    nora      15\n",
       "4      aa   5      bb      17\n",
       "5  yoruba   6   ihhhh      19\n",
       "6    igbo   7  ibibio      20\n",
       "7   shhhh   8  lollll      15\n",
       "8   flyyy   9   disah      15\n",
       "9    whhh  10   shyff      20"
      ]
     },
     "execution_count": 5,
     "metadata": {},
     "output_type": "execute_result"
    }
   ],
   "source": [
    "name[\"Weight\"]=[12,13,24,15,17,19,20,15,15,20]\n",
    "name"
   ]
  },
  {
   "cell_type": "markdown",
   "metadata": {
    "id": "Q7Bk6XimONWG"
   },
   "source": [
    "4. Change the name of the column for \"weight\" to \"height\". Feel free to use any method you find. "
   ]
  },
  {
   "cell_type": "code",
   "execution_count": 6,
   "metadata": {},
   "outputs": [
    {
     "data": {
      "text/html": [
       "<div>\n",
       "<style scoped>\n",
       "    .dataframe tbody tr th:only-of-type {\n",
       "        vertical-align: middle;\n",
       "    }\n",
       "\n",
       "    .dataframe tbody tr th {\n",
       "        vertical-align: top;\n",
       "    }\n",
       "\n",
       "    .dataframe thead th {\n",
       "        text-align: right;\n",
       "    }\n",
       "</style>\n",
       "<table border=\"1\" class=\"dataframe\">\n",
       "  <thead>\n",
       "    <tr style=\"text-align: right;\">\n",
       "      <th></th>\n",
       "      <th>Name</th>\n",
       "      <th>Age</th>\n",
       "      <th>Race</th>\n",
       "      <th>Height</th>\n",
       "    </tr>\n",
       "  </thead>\n",
       "  <tbody>\n",
       "    <tr>\n",
       "      <th>0</th>\n",
       "      <td>ije</td>\n",
       "      <td>1</td>\n",
       "      <td>oma</td>\n",
       "      <td>12</td>\n",
       "    </tr>\n",
       "    <tr>\n",
       "      <th>1</th>\n",
       "      <td>lil</td>\n",
       "      <td>1</td>\n",
       "      <td>uju</td>\n",
       "      <td>13</td>\n",
       "    </tr>\n",
       "    <tr>\n",
       "      <th>2</th>\n",
       "      <td>nwa</td>\n",
       "      <td>3</td>\n",
       "      <td>seun</td>\n",
       "      <td>24</td>\n",
       "    </tr>\n",
       "    <tr>\n",
       "      <th>3</th>\n",
       "      <td>amy</td>\n",
       "      <td>4</td>\n",
       "      <td>nora</td>\n",
       "      <td>15</td>\n",
       "    </tr>\n",
       "    <tr>\n",
       "      <th>4</th>\n",
       "      <td>aa</td>\n",
       "      <td>5</td>\n",
       "      <td>bb</td>\n",
       "      <td>17</td>\n",
       "    </tr>\n",
       "    <tr>\n",
       "      <th>5</th>\n",
       "      <td>yoruba</td>\n",
       "      <td>6</td>\n",
       "      <td>ihhhh</td>\n",
       "      <td>19</td>\n",
       "    </tr>\n",
       "    <tr>\n",
       "      <th>6</th>\n",
       "      <td>igbo</td>\n",
       "      <td>7</td>\n",
       "      <td>ibibio</td>\n",
       "      <td>20</td>\n",
       "    </tr>\n",
       "    <tr>\n",
       "      <th>7</th>\n",
       "      <td>shhhh</td>\n",
       "      <td>8</td>\n",
       "      <td>lollll</td>\n",
       "      <td>15</td>\n",
       "    </tr>\n",
       "    <tr>\n",
       "      <th>8</th>\n",
       "      <td>flyyy</td>\n",
       "      <td>9</td>\n",
       "      <td>disah</td>\n",
       "      <td>15</td>\n",
       "    </tr>\n",
       "    <tr>\n",
       "      <th>9</th>\n",
       "      <td>whhh</td>\n",
       "      <td>10</td>\n",
       "      <td>shyff</td>\n",
       "      <td>20</td>\n",
       "    </tr>\n",
       "  </tbody>\n",
       "</table>\n",
       "</div>"
      ],
      "text/plain": [
       "     Name Age    Race  Height\n",
       "0     ije   1     oma      12\n",
       "1     lil   1     uju      13\n",
       "2     nwa   3    seun      24\n",
       "3     amy   4    nora      15\n",
       "4      aa   5      bb      17\n",
       "5  yoruba   6   ihhhh      19\n",
       "6    igbo   7  ibibio      20\n",
       "7   shhhh   8  lollll      15\n",
       "8   flyyy   9   disah      15\n",
       "9    whhh  10   shyff      20"
      ]
     },
     "execution_count": 6,
     "metadata": {},
     "output_type": "execute_result"
    }
   ],
   "source": [
    "name.rename(columns={\"Weight\":\"Height\"}, inplace=True)\n",
    "name"
   ]
  },
  {
   "cell_type": "markdown",
   "metadata": {
    "id": "lTPop9lvONWG"
   },
   "source": [
    "5. Change the row index to another indexing of your choice."
   ]
  },
  {
   "cell_type": "code",
   "execution_count": 7,
   "metadata": {},
   "outputs": [
    {
     "data": {
      "text/html": [
       "<div>\n",
       "<style scoped>\n",
       "    .dataframe tbody tr th:only-of-type {\n",
       "        vertical-align: middle;\n",
       "    }\n",
       "\n",
       "    .dataframe tbody tr th {\n",
       "        vertical-align: top;\n",
       "    }\n",
       "\n",
       "    .dataframe thead th {\n",
       "        text-align: right;\n",
       "    }\n",
       "</style>\n",
       "<table border=\"1\" class=\"dataframe\">\n",
       "  <thead>\n",
       "    <tr style=\"text-align: right;\">\n",
       "      <th></th>\n",
       "      <th>Name</th>\n",
       "      <th>Age</th>\n",
       "      <th>Race</th>\n",
       "      <th>Height</th>\n",
       "    </tr>\n",
       "  </thead>\n",
       "  <tbody>\n",
       "    <tr>\n",
       "      <th>a</th>\n",
       "      <td>ije</td>\n",
       "      <td>1</td>\n",
       "      <td>oma</td>\n",
       "      <td>12</td>\n",
       "    </tr>\n",
       "    <tr>\n",
       "      <th>b</th>\n",
       "      <td>lil</td>\n",
       "      <td>1</td>\n",
       "      <td>uju</td>\n",
       "      <td>13</td>\n",
       "    </tr>\n",
       "    <tr>\n",
       "      <th>c</th>\n",
       "      <td>nwa</td>\n",
       "      <td>3</td>\n",
       "      <td>seun</td>\n",
       "      <td>24</td>\n",
       "    </tr>\n",
       "    <tr>\n",
       "      <th>d</th>\n",
       "      <td>amy</td>\n",
       "      <td>4</td>\n",
       "      <td>nora</td>\n",
       "      <td>15</td>\n",
       "    </tr>\n",
       "    <tr>\n",
       "      <th>e</th>\n",
       "      <td>aa</td>\n",
       "      <td>5</td>\n",
       "      <td>bb</td>\n",
       "      <td>17</td>\n",
       "    </tr>\n",
       "    <tr>\n",
       "      <th>f</th>\n",
       "      <td>yoruba</td>\n",
       "      <td>6</td>\n",
       "      <td>ihhhh</td>\n",
       "      <td>19</td>\n",
       "    </tr>\n",
       "    <tr>\n",
       "      <th>g</th>\n",
       "      <td>igbo</td>\n",
       "      <td>7</td>\n",
       "      <td>ibibio</td>\n",
       "      <td>20</td>\n",
       "    </tr>\n",
       "    <tr>\n",
       "      <th>h</th>\n",
       "      <td>shhhh</td>\n",
       "      <td>8</td>\n",
       "      <td>lollll</td>\n",
       "      <td>15</td>\n",
       "    </tr>\n",
       "    <tr>\n",
       "      <th>k</th>\n",
       "      <td>flyyy</td>\n",
       "      <td>9</td>\n",
       "      <td>disah</td>\n",
       "      <td>15</td>\n",
       "    </tr>\n",
       "    <tr>\n",
       "      <th>l</th>\n",
       "      <td>whhh</td>\n",
       "      <td>10</td>\n",
       "      <td>shyff</td>\n",
       "      <td>20</td>\n",
       "    </tr>\n",
       "  </tbody>\n",
       "</table>\n",
       "</div>"
      ],
      "text/plain": [
       "     Name Age    Race  Height\n",
       "a     ije   1     oma      12\n",
       "b     lil   1     uju      13\n",
       "c     nwa   3    seun      24\n",
       "d     amy   4    nora      15\n",
       "e      aa   5      bb      17\n",
       "f  yoruba   6   ihhhh      19\n",
       "g    igbo   7  ibibio      20\n",
       "h   shhhh   8  lollll      15\n",
       "k   flyyy   9   disah      15\n",
       "l    whhh  10   shyff      20"
      ]
     },
     "execution_count": 7,
     "metadata": {},
     "output_type": "execute_result"
    }
   ],
   "source": [
    "name.index=(\"a\",\"b\",\"c\",\"d\",\"e\",\"f\",\"g\",\"h\",\"k\",\"l\")\n",
    "name"
   ]
  },
  {
   "cell_type": "markdown",
   "metadata": {
    "id": "jT9g2_H0ONWH"
   },
   "source": [
    "6. Select/display only the age and race columns"
   ]
  },
  {
   "cell_type": "code",
   "execution_count": 8,
   "metadata": {},
   "outputs": [
    {
     "data": {
      "text/html": [
       "<div>\n",
       "<style scoped>\n",
       "    .dataframe tbody tr th:only-of-type {\n",
       "        vertical-align: middle;\n",
       "    }\n",
       "\n",
       "    .dataframe tbody tr th {\n",
       "        vertical-align: top;\n",
       "    }\n",
       "\n",
       "    .dataframe thead th {\n",
       "        text-align: right;\n",
       "    }\n",
       "</style>\n",
       "<table border=\"1\" class=\"dataframe\">\n",
       "  <thead>\n",
       "    <tr style=\"text-align: right;\">\n",
       "      <th></th>\n",
       "      <th>Age</th>\n",
       "      <th>Race</th>\n",
       "    </tr>\n",
       "  </thead>\n",
       "  <tbody>\n",
       "    <tr>\n",
       "      <th>a</th>\n",
       "      <td>1</td>\n",
       "      <td>oma</td>\n",
       "    </tr>\n",
       "    <tr>\n",
       "      <th>b</th>\n",
       "      <td>1</td>\n",
       "      <td>uju</td>\n",
       "    </tr>\n",
       "    <tr>\n",
       "      <th>c</th>\n",
       "      <td>3</td>\n",
       "      <td>seun</td>\n",
       "    </tr>\n",
       "    <tr>\n",
       "      <th>d</th>\n",
       "      <td>4</td>\n",
       "      <td>nora</td>\n",
       "    </tr>\n",
       "    <tr>\n",
       "      <th>e</th>\n",
       "      <td>5</td>\n",
       "      <td>bb</td>\n",
       "    </tr>\n",
       "    <tr>\n",
       "      <th>f</th>\n",
       "      <td>6</td>\n",
       "      <td>ihhhh</td>\n",
       "    </tr>\n",
       "    <tr>\n",
       "      <th>g</th>\n",
       "      <td>7</td>\n",
       "      <td>ibibio</td>\n",
       "    </tr>\n",
       "    <tr>\n",
       "      <th>h</th>\n",
       "      <td>8</td>\n",
       "      <td>lollll</td>\n",
       "    </tr>\n",
       "    <tr>\n",
       "      <th>k</th>\n",
       "      <td>9</td>\n",
       "      <td>disah</td>\n",
       "    </tr>\n",
       "    <tr>\n",
       "      <th>l</th>\n",
       "      <td>10</td>\n",
       "      <td>shyff</td>\n",
       "    </tr>\n",
       "  </tbody>\n",
       "</table>\n",
       "</div>"
      ],
      "text/plain": [
       "  Age    Race\n",
       "a   1     oma\n",
       "b   1     uju\n",
       "c   3    seun\n",
       "d   4    nora\n",
       "e   5      bb\n",
       "f   6   ihhhh\n",
       "g   7  ibibio\n",
       "h   8  lollll\n",
       "k   9   disah\n",
       "l  10   shyff"
      ]
     },
     "execution_count": 8,
     "metadata": {},
     "output_type": "execute_result"
    }
   ],
   "source": [
    "name[[\"Age\",\"Race\"]]"
   ]
  },
  {
   "cell_type": "markdown",
   "metadata": {
    "id": "nPffixWwONWH"
   },
   "source": [
    "7. Select/display the first five names and their age "
   ]
  },
  {
   "cell_type": "code",
   "execution_count": 9,
   "metadata": {},
   "outputs": [
    {
     "data": {
      "text/html": [
       "<div>\n",
       "<style scoped>\n",
       "    .dataframe tbody tr th:only-of-type {\n",
       "        vertical-align: middle;\n",
       "    }\n",
       "\n",
       "    .dataframe tbody tr th {\n",
       "        vertical-align: top;\n",
       "    }\n",
       "\n",
       "    .dataframe thead th {\n",
       "        text-align: right;\n",
       "    }\n",
       "</style>\n",
       "<table border=\"1\" class=\"dataframe\">\n",
       "  <thead>\n",
       "    <tr style=\"text-align: right;\">\n",
       "      <th></th>\n",
       "      <th>Name</th>\n",
       "      <th>Age</th>\n",
       "      <th>Race</th>\n",
       "      <th>Height</th>\n",
       "    </tr>\n",
       "  </thead>\n",
       "  <tbody>\n",
       "    <tr>\n",
       "      <th>a</th>\n",
       "      <td>ije</td>\n",
       "      <td>1</td>\n",
       "      <td>oma</td>\n",
       "      <td>12</td>\n",
       "    </tr>\n",
       "    <tr>\n",
       "      <th>b</th>\n",
       "      <td>lil</td>\n",
       "      <td>1</td>\n",
       "      <td>uju</td>\n",
       "      <td>13</td>\n",
       "    </tr>\n",
       "    <tr>\n",
       "      <th>c</th>\n",
       "      <td>nwa</td>\n",
       "      <td>3</td>\n",
       "      <td>seun</td>\n",
       "      <td>24</td>\n",
       "    </tr>\n",
       "    <tr>\n",
       "      <th>d</th>\n",
       "      <td>amy</td>\n",
       "      <td>4</td>\n",
       "      <td>nora</td>\n",
       "      <td>15</td>\n",
       "    </tr>\n",
       "    <tr>\n",
       "      <th>e</th>\n",
       "      <td>aa</td>\n",
       "      <td>5</td>\n",
       "      <td>bb</td>\n",
       "      <td>17</td>\n",
       "    </tr>\n",
       "  </tbody>\n",
       "</table>\n",
       "</div>"
      ],
      "text/plain": [
       "  Name Age  Race  Height\n",
       "a  ije   1   oma      12\n",
       "b  lil   1   uju      13\n",
       "c  nwa   3  seun      24\n",
       "d  amy   4  nora      15\n",
       "e   aa   5    bb      17"
      ]
     },
     "execution_count": 9,
     "metadata": {},
     "output_type": "execute_result"
    }
   ],
   "source": [
    "name.loc[\"a\":\"e\"]"
   ]
  },
  {
   "cell_type": "markdown",
   "metadata": {
    "id": "RnosePWHONWH"
   },
   "source": [
    "8. Select all rows but only the third column"
   ]
  },
  {
   "cell_type": "code",
   "execution_count": 10,
   "metadata": {},
   "outputs": [
    {
     "data": {
      "text/html": [
       "<div>\n",
       "<style scoped>\n",
       "    .dataframe tbody tr th:only-of-type {\n",
       "        vertical-align: middle;\n",
       "    }\n",
       "\n",
       "    .dataframe tbody tr th {\n",
       "        vertical-align: top;\n",
       "    }\n",
       "\n",
       "    .dataframe thead th {\n",
       "        text-align: right;\n",
       "    }\n",
       "</style>\n",
       "<table border=\"1\" class=\"dataframe\">\n",
       "  <thead>\n",
       "    <tr style=\"text-align: right;\">\n",
       "      <th></th>\n",
       "      <th>Race</th>\n",
       "    </tr>\n",
       "  </thead>\n",
       "  <tbody>\n",
       "    <tr>\n",
       "      <th>a</th>\n",
       "      <td>oma</td>\n",
       "    </tr>\n",
       "    <tr>\n",
       "      <th>b</th>\n",
       "      <td>uju</td>\n",
       "    </tr>\n",
       "    <tr>\n",
       "      <th>c</th>\n",
       "      <td>seun</td>\n",
       "    </tr>\n",
       "    <tr>\n",
       "      <th>d</th>\n",
       "      <td>nora</td>\n",
       "    </tr>\n",
       "    <tr>\n",
       "      <th>e</th>\n",
       "      <td>bb</td>\n",
       "    </tr>\n",
       "    <tr>\n",
       "      <th>f</th>\n",
       "      <td>ihhhh</td>\n",
       "    </tr>\n",
       "    <tr>\n",
       "      <th>g</th>\n",
       "      <td>ibibio</td>\n",
       "    </tr>\n",
       "    <tr>\n",
       "      <th>h</th>\n",
       "      <td>lollll</td>\n",
       "    </tr>\n",
       "    <tr>\n",
       "      <th>k</th>\n",
       "      <td>disah</td>\n",
       "    </tr>\n",
       "    <tr>\n",
       "      <th>l</th>\n",
       "      <td>shyff</td>\n",
       "    </tr>\n",
       "  </tbody>\n",
       "</table>\n",
       "</div>"
      ],
      "text/plain": [
       "     Race\n",
       "a     oma\n",
       "b     uju\n",
       "c    seun\n",
       "d    nora\n",
       "e      bb\n",
       "f   ihhhh\n",
       "g  ibibio\n",
       "h  lollll\n",
       "k   disah\n",
       "l   shyff"
      ]
     },
     "execution_count": 10,
     "metadata": {},
     "output_type": "execute_result"
    }
   ],
   "source": [
    "name[[\"Race\"]]"
   ]
  },
  {
   "cell_type": "markdown",
   "metadata": {
    "id": "loU9ctgRONWI"
   },
   "source": [
    "9. Write some code to return the row index back to the default numbering before it was changed. Use your researching skills."
   ]
  },
  {
   "cell_type": "code",
   "execution_count": 11,
   "metadata": {},
   "outputs": [
    {
     "data": {
      "text/html": [
       "<div>\n",
       "<style scoped>\n",
       "    .dataframe tbody tr th:only-of-type {\n",
       "        vertical-align: middle;\n",
       "    }\n",
       "\n",
       "    .dataframe tbody tr th {\n",
       "        vertical-align: top;\n",
       "    }\n",
       "\n",
       "    .dataframe thead th {\n",
       "        text-align: right;\n",
       "    }\n",
       "</style>\n",
       "<table border=\"1\" class=\"dataframe\">\n",
       "  <thead>\n",
       "    <tr style=\"text-align: right;\">\n",
       "      <th></th>\n",
       "      <th>Name</th>\n",
       "      <th>Age</th>\n",
       "      <th>Race</th>\n",
       "      <th>Height</th>\n",
       "    </tr>\n",
       "  </thead>\n",
       "  <tbody>\n",
       "    <tr>\n",
       "      <th>0</th>\n",
       "      <td>ije</td>\n",
       "      <td>1</td>\n",
       "      <td>oma</td>\n",
       "      <td>12</td>\n",
       "    </tr>\n",
       "    <tr>\n",
       "      <th>1</th>\n",
       "      <td>lil</td>\n",
       "      <td>1</td>\n",
       "      <td>uju</td>\n",
       "      <td>13</td>\n",
       "    </tr>\n",
       "    <tr>\n",
       "      <th>2</th>\n",
       "      <td>nwa</td>\n",
       "      <td>3</td>\n",
       "      <td>seun</td>\n",
       "      <td>24</td>\n",
       "    </tr>\n",
       "    <tr>\n",
       "      <th>3</th>\n",
       "      <td>amy</td>\n",
       "      <td>4</td>\n",
       "      <td>nora</td>\n",
       "      <td>15</td>\n",
       "    </tr>\n",
       "    <tr>\n",
       "      <th>4</th>\n",
       "      <td>aa</td>\n",
       "      <td>5</td>\n",
       "      <td>bb</td>\n",
       "      <td>17</td>\n",
       "    </tr>\n",
       "    <tr>\n",
       "      <th>5</th>\n",
       "      <td>yoruba</td>\n",
       "      <td>6</td>\n",
       "      <td>ihhhh</td>\n",
       "      <td>19</td>\n",
       "    </tr>\n",
       "    <tr>\n",
       "      <th>6</th>\n",
       "      <td>igbo</td>\n",
       "      <td>7</td>\n",
       "      <td>ibibio</td>\n",
       "      <td>20</td>\n",
       "    </tr>\n",
       "    <tr>\n",
       "      <th>7</th>\n",
       "      <td>shhhh</td>\n",
       "      <td>8</td>\n",
       "      <td>lollll</td>\n",
       "      <td>15</td>\n",
       "    </tr>\n",
       "    <tr>\n",
       "      <th>8</th>\n",
       "      <td>flyyy</td>\n",
       "      <td>9</td>\n",
       "      <td>disah</td>\n",
       "      <td>15</td>\n",
       "    </tr>\n",
       "    <tr>\n",
       "      <th>9</th>\n",
       "      <td>whhh</td>\n",
       "      <td>10</td>\n",
       "      <td>shyff</td>\n",
       "      <td>20</td>\n",
       "    </tr>\n",
       "  </tbody>\n",
       "</table>\n",
       "</div>"
      ],
      "text/plain": [
       "     Name Age    Race  Height\n",
       "0     ije   1     oma      12\n",
       "1     lil   1     uju      13\n",
       "2     nwa   3    seun      24\n",
       "3     amy   4    nora      15\n",
       "4      aa   5      bb      17\n",
       "5  yoruba   6   ihhhh      19\n",
       "6    igbo   7  ibibio      20\n",
       "7   shhhh   8  lollll      15\n",
       "8   flyyy   9   disah      15\n",
       "9    whhh  10   shyff      20"
      ]
     },
     "execution_count": 11,
     "metadata": {},
     "output_type": "execute_result"
    }
   ],
   "source": [
    "name.reset_index(inplace=True,drop=True)\n",
    "name"
   ]
  },
  {
   "cell_type": "markdown",
   "metadata": {
    "id": "iT145jmMONWJ"
   },
   "source": [
    "10. Create a dataframe from the dictionary above. Using the dataframe, select books with ratings not less than 200000"
   ]
  },
  {
   "cell_type": "code",
   "execution_count": 13,
   "metadata": {},
   "outputs": [],
   "source": [
    "chimamanda = {\"Books\":[\"Americanah\", \"Half of a Yellow Sun\", \"Purple Hibiscus\",\n",
    "                    \"The Thing Around Your Neck\", \"We Should All Be Feminists\"], \n",
    "             \"Ratings\":[297972, 120131, 5116, 32064, 204882]}"
   ]
  },
  {
   "cell_type": "code",
   "execution_count": 14,
   "metadata": {},
   "outputs": [
    {
     "data": {
      "text/html": [
       "<div>\n",
       "<style scoped>\n",
       "    .dataframe tbody tr th:only-of-type {\n",
       "        vertical-align: middle;\n",
       "    }\n",
       "\n",
       "    .dataframe tbody tr th {\n",
       "        vertical-align: top;\n",
       "    }\n",
       "\n",
       "    .dataframe thead th {\n",
       "        text-align: right;\n",
       "    }\n",
       "</style>\n",
       "<table border=\"1\" class=\"dataframe\">\n",
       "  <thead>\n",
       "    <tr style=\"text-align: right;\">\n",
       "      <th></th>\n",
       "      <th>Books</th>\n",
       "      <th>Ratings</th>\n",
       "    </tr>\n",
       "  </thead>\n",
       "  <tbody>\n",
       "    <tr>\n",
       "      <th>0</th>\n",
       "      <td>Americanah</td>\n",
       "      <td>297972</td>\n",
       "    </tr>\n",
       "    <tr>\n",
       "      <th>1</th>\n",
       "      <td>Half of a Yellow Sun</td>\n",
       "      <td>120131</td>\n",
       "    </tr>\n",
       "    <tr>\n",
       "      <th>2</th>\n",
       "      <td>Purple Hibiscus</td>\n",
       "      <td>5116</td>\n",
       "    </tr>\n",
       "    <tr>\n",
       "      <th>3</th>\n",
       "      <td>The Thing Around Your Neck</td>\n",
       "      <td>32064</td>\n",
       "    </tr>\n",
       "    <tr>\n",
       "      <th>4</th>\n",
       "      <td>We Should All Be Feminists</td>\n",
       "      <td>204882</td>\n",
       "    </tr>\n",
       "  </tbody>\n",
       "</table>\n",
       "</div>"
      ],
      "text/plain": [
       "                        Books  Ratings\n",
       "0                  Americanah   297972\n",
       "1        Half of a Yellow Sun   120131\n",
       "2             Purple Hibiscus     5116\n",
       "3  The Thing Around Your Neck    32064\n",
       "4  We Should All Be Feminists   204882"
      ]
     },
     "execution_count": 14,
     "metadata": {},
     "output_type": "execute_result"
    }
   ],
   "source": [
    "next1=pd.DataFrame(chimamanda)\n",
    "next1"
   ]
  },
  {
   "cell_type": "code",
   "execution_count": 15,
   "metadata": {},
   "outputs": [
    {
     "data": {
      "text/html": [
       "<div>\n",
       "<style scoped>\n",
       "    .dataframe tbody tr th:only-of-type {\n",
       "        vertical-align: middle;\n",
       "    }\n",
       "\n",
       "    .dataframe tbody tr th {\n",
       "        vertical-align: top;\n",
       "    }\n",
       "\n",
       "    .dataframe thead th {\n",
       "        text-align: right;\n",
       "    }\n",
       "</style>\n",
       "<table border=\"1\" class=\"dataframe\">\n",
       "  <thead>\n",
       "    <tr style=\"text-align: right;\">\n",
       "      <th></th>\n",
       "      <th>Books</th>\n",
       "      <th>Ratings</th>\n",
       "    </tr>\n",
       "  </thead>\n",
       "  <tbody>\n",
       "    <tr>\n",
       "      <th>0</th>\n",
       "      <td>Americanah</td>\n",
       "      <td>297972</td>\n",
       "    </tr>\n",
       "    <tr>\n",
       "      <th>4</th>\n",
       "      <td>We Should All Be Feminists</td>\n",
       "      <td>204882</td>\n",
       "    </tr>\n",
       "  </tbody>\n",
       "</table>\n",
       "</div>"
      ],
      "text/plain": [
       "                        Books  Ratings\n",
       "0                  Americanah   297972\n",
       "4  We Should All Be Feminists   204882"
      ]
     },
     "execution_count": 15,
     "metadata": {},
     "output_type": "execute_result"
    }
   ],
   "source": [
    "next1.loc[[0,4 ]] #used in selecting out rating not less than 200000 using their index"
   ]
  },
  {
   "cell_type": "markdown",
   "metadata": {
    "id": "Iv2UJqNArVjM"
   },
   "source": [
    "11. Create a numpy array with data type boolean"
   ]
  },
  {
   "cell_type": "code",
   "execution_count": 17,
   "metadata": {},
   "outputs": [
    {
     "data": {
      "text/plain": [
       "dtype('bool')"
      ]
     },
     "execution_count": 17,
     "metadata": {},
     "output_type": "execute_result"
    }
   ],
   "source": [
    "import numpy as np\n",
    "b=np.array([[False,True,False], [True,False,True]])\n",
    "b.dtype"
   ]
  },
  {
   "cell_type": "code",
   "execution_count": 18,
   "metadata": {
    "id": "-RmPlq2Kqwk5"
   },
   "outputs": [
    {
     "name": "stdout",
     "output_type": "stream",
     "text": [
      "[[1 0 0]\n",
      " [1 1 1]\n",
      " [0 0 0]]\n"
     ]
    }
   ],
   "source": [
    "# 12. Convert the following array to an integer\n",
    "\n",
    "a = np.array([[True, False, False],\n",
    "              [True, True, True],\n",
    "              [False, False, False]])\n",
    "\n",
    "p = a.astype(int)\n",
    "\n",
    "print(p)"
   ]
  },
  {
   "cell_type": "code",
   "execution_count": 19,
   "metadata": {
    "id": "PviA_PmHsVUE",
    "scrolled": true
   },
   "outputs": [
    {
     "name": "stdout",
     "output_type": "stream",
     "text": [
      "[[ 7  8  9  1  2  3]\n",
      " [10 11 12  4  5  6]]\n",
      "[[ 7  8  9]\n",
      " [10 11 12]\n",
      " [ 1  2  3]\n",
      " [ 4  5  6]]\n"
     ]
    }
   ],
   "source": [
    "#13. Stack these numpy arrays - vertically and horizontally\n",
    "\n",
    "a = np.array([[7, 8, 9],\n",
    "              [10, 11, 12]])\n",
    "\n",
    "aa = np.array([[1, 2, 3],\n",
    "               [4, 5, 6]])\n",
    "harray=np.hstack((a,aa))\n",
    "varray=np.vstack((a,aa))\n",
    "print(harray)\n",
    "print(varray)"
   ]
  },
  {
   "cell_type": "markdown",
   "metadata": {
    "id": "Vr2vTe6AtTkp"
   },
   "source": [
    "14. Create 2 3D arrays, add them together to create a new array, then sort the new array."
   ]
  },
  {
   "cell_type": "code",
   "execution_count": 23,
   "metadata": {},
   "outputs": [
    {
     "data": {
      "text/plain": [
       "array([[[4, 7, 9],\n",
       "        [3, 3, 5]],\n",
       "\n",
       "       [[5, 4, 7],\n",
       "        [7, 5, 9]]])"
      ]
     },
     "execution_count": 23,
     "metadata": {},
     "output_type": "execute_result"
    }
   ],
   "source": [
    "import numpy as np\n",
    "yet=np.array([[[1,2,3],[2,3,4]], [[3,4,5], [4,5,6]]])\n",
    "yep=np.array([[[3,5,6],[1,0,1]],[[2,0,2],[3,0,3]]])\n",
    "newArray=np.add(yet,yep)\n",
    "newArray"
   ]
  },
  {
   "cell_type": "code",
   "execution_count": 24,
   "metadata": {},
   "outputs": [
    {
     "name": "stdout",
     "output_type": "stream",
     "text": [
      "[[[4 7 9]\n",
      "  [3 3 5]]\n",
      "\n",
      " [[4 5 7]\n",
      "  [5 7 9]]]\n"
     ]
    }
   ],
   "source": [
    "print (np.sort(newArray))"
   ]
  },
  {
   "cell_type": "code",
   "execution_count": 21,
   "metadata": {
    "colab": {
     "base_uri": "https://localhost:8080/",
     "height": 200
    },
    "id": "sR8Z-84utKIu",
    "outputId": "1a943ffb-5edb-45fa-ee67-47ca9b8c7528"
   },
   "outputs": [
    {
     "data": {
      "text/plain": [
       "array([7, 0, 4, 6])"
      ]
     },
     "execution_count": 21,
     "metadata": {},
     "output_type": "execute_result"
    }
   ],
   "source": [
    "#15. Using step slicing, slice the array below from any position using 3 steps\n",
    "\n",
    "a = np.array([5, 8, 7, 1, 0, 9, 4, 2, 6, 3])\n",
    "a = np.array([5, 8, 7, 1, 0, 9, 4, 2, 6, 3])\n",
    "mp=a[2:9:2]\n",
    "mp\n"
   ]
  },
  {
   "cell_type": "code",
   "execution_count": null,
   "metadata": {},
   "outputs": [],
   "source": []
  }
 ],
 "metadata": {
  "colab": {
   "name": "Numpy x Pandas assignment",
   "provenance": []
  },
  "kernelspec": {
   "display_name": "Python 3",
   "language": "python",
   "name": "python3"
  }
 },
 "nbformat": 4,
 "nbformat_minor": 1
}
